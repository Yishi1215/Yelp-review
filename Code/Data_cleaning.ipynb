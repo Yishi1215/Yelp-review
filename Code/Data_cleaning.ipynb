{
 "cells": [
  {
   "cell_type": "code",
   "execution_count": 1,
   "metadata": {},
   "outputs": [
    {
     "name": "stdout",
     "output_type": "stream",
     "text": [
      "[nltk_data] Downloading package punkt to /Users/yishi/nltk_data...\n",
      "[nltk_data]   Package punkt is already up-to-date!\n",
      "[nltk_data] Downloading package stopwords to /Users/yishi/nltk_data...\n",
      "[nltk_data]   Package stopwords is already up-to-date!\n"
     ]
    },
    {
     "data": {
      "text/plain": [
       "True"
      ]
     },
     "execution_count": 1,
     "metadata": {},
     "output_type": "execute_result"
    }
   ],
   "source": [
    "import pandas as pd\n",
    "import numpy as np\n",
    "from datetime import datetime\n",
    "from textblob import TextBlob\n",
    "from langdetect import detect\n",
    "from sklearn import preprocessing\n",
    "from nltk.corpus import stopwords\n",
    "from nltk.stem.snowball import SnowballStemmer\n",
    "import nltk\n",
    "nltk.download('punkt')\n",
    "nltk.download('stopwords')"
   ]
  },
  {
   "cell_type": "code",
   "execution_count": 2,
   "metadata": {},
   "outputs": [],
   "source": [
    "# Load data\n",
    "df_review = pd.read_csv('../Data/yelp_review.csv',index_col=False)"
   ]
  },
  {
   "cell_type": "code",
   "execution_count": 3,
   "metadata": {},
   "outputs": [],
   "source": [
    "df_user_fields = ['user_id', 'review_count', 'friends', 'useful', 'funny', 'cool', 'average_stars']\n",
    "df_user = pd.read_csv('../Data/yelp_user.csv',index_col=False, usecols=df_user_fields)\n",
    "df_user.columns = ['user_id', 'user_review_count', 'friends', 'user_total_useful', 'total_funny', \n",
    "                   'total_cool', 'user_average_stars']\n",
    "df = pd.merge(df_review, df_user, on='user_id', how='left')\n",
    "\n",
    "df_business_fields = ['business_id', 'stars', 'review_count']\n",
    "df_business = pd.read_csv('../Data/yelp_business.csv',index_col=False, usecols=df_business_fields)\n",
    "df_business.columns = ['business_id', 'business_stars', 'business_review_count']\n",
    "df = pd.merge(df, df_business, on='business_id',how='left')"
   ]
  },
  {
   "cell_type": "code",
   "execution_count": 4,
   "metadata": {},
   "outputs": [],
   "source": [
    "df['user_review_count'] = df['user_review_count'] - 1\n",
    "df['user_total_useful'] = df['user_total_useful'] - df['useful']\n",
    "df['total_funny'] = df['total_funny'] - df['funny']\n",
    "df['total_cool'] = df['total_cool'] - df['cool']"
   ]
  },
  {
   "cell_type": "code",
   "execution_count": 5,
   "metadata": {},
   "outputs": [
    {
     "data": {
      "text/html": [
       "<div>\n",
       "<style>\n",
       "    .dataframe thead tr:only-child th {\n",
       "        text-align: right;\n",
       "    }\n",
       "\n",
       "    .dataframe thead th {\n",
       "        text-align: left;\n",
       "    }\n",
       "\n",
       "    .dataframe tbody tr th {\n",
       "        vertical-align: top;\n",
       "    }\n",
       "</style>\n",
       "<table border=\"1\" class=\"dataframe\">\n",
       "  <thead>\n",
       "    <tr style=\"text-align: right;\">\n",
       "      <th></th>\n",
       "      <th>review_id</th>\n",
       "      <th>user_id</th>\n",
       "      <th>business_id</th>\n",
       "      <th>stars</th>\n",
       "      <th>date</th>\n",
       "      <th>text</th>\n",
       "      <th>useful</th>\n",
       "      <th>funny</th>\n",
       "      <th>cool</th>\n",
       "      <th>user_review_count</th>\n",
       "      <th>friends</th>\n",
       "      <th>user_total_useful</th>\n",
       "      <th>total_funny</th>\n",
       "      <th>total_cool</th>\n",
       "      <th>user_average_stars</th>\n",
       "      <th>business_stars</th>\n",
       "      <th>business_review_count</th>\n",
       "    </tr>\n",
       "  </thead>\n",
       "  <tbody>\n",
       "    <tr>\n",
       "      <th>0</th>\n",
       "      <td>vkVSCC7xljjrAI4UGfnKEQ</td>\n",
       "      <td>bv2nCi5Qv5vroFiqKGopiw</td>\n",
       "      <td>AEx2SYEUJmTxVVB18LlCwA</td>\n",
       "      <td>5</td>\n",
       "      <td>2016-05-28</td>\n",
       "      <td>Super simple place but amazing nonetheless. It...</td>\n",
       "      <td>0</td>\n",
       "      <td>0</td>\n",
       "      <td>0</td>\n",
       "      <td>5</td>\n",
       "      <td>4Zpn3ObC2zexkIhor4LJIQ</td>\n",
       "      <td>0</td>\n",
       "      <td>0</td>\n",
       "      <td>0</td>\n",
       "      <td>4.67</td>\n",
       "      <td>4.0</td>\n",
       "      <td>84</td>\n",
       "    </tr>\n",
       "    <tr>\n",
       "      <th>1</th>\n",
       "      <td>n6QzIUObkYshz4dz2QRJTw</td>\n",
       "      <td>bv2nCi5Qv5vroFiqKGopiw</td>\n",
       "      <td>VR6GpWIda3SfvPC-lg9H3w</td>\n",
       "      <td>5</td>\n",
       "      <td>2016-05-28</td>\n",
       "      <td>Small unassuming place that changes their menu...</td>\n",
       "      <td>0</td>\n",
       "      <td>0</td>\n",
       "      <td>0</td>\n",
       "      <td>5</td>\n",
       "      <td>4Zpn3ObC2zexkIhor4LJIQ</td>\n",
       "      <td>0</td>\n",
       "      <td>0</td>\n",
       "      <td>0</td>\n",
       "      <td>4.67</td>\n",
       "      <td>4.5</td>\n",
       "      <td>50</td>\n",
       "    </tr>\n",
       "    <tr>\n",
       "      <th>2</th>\n",
       "      <td>MV3CcKScW05u5LVfF6ok0g</td>\n",
       "      <td>bv2nCi5Qv5vroFiqKGopiw</td>\n",
       "      <td>CKC0-MOWMqoeWf6s-szl8g</td>\n",
       "      <td>5</td>\n",
       "      <td>2016-05-28</td>\n",
       "      <td>Lester's is located in a beautiful neighborhoo...</td>\n",
       "      <td>0</td>\n",
       "      <td>0</td>\n",
       "      <td>0</td>\n",
       "      <td>5</td>\n",
       "      <td>4Zpn3ObC2zexkIhor4LJIQ</td>\n",
       "      <td>0</td>\n",
       "      <td>0</td>\n",
       "      <td>0</td>\n",
       "      <td>4.67</td>\n",
       "      <td>4.0</td>\n",
       "      <td>70</td>\n",
       "    </tr>\n",
       "    <tr>\n",
       "      <th>3</th>\n",
       "      <td>IXvOzsEMYtiJI0CARmj77Q</td>\n",
       "      <td>bv2nCi5Qv5vroFiqKGopiw</td>\n",
       "      <td>ACFtxLv8pGrrxMm6EgjreA</td>\n",
       "      <td>4</td>\n",
       "      <td>2016-05-28</td>\n",
       "      <td>Love coming here. Yes the place always needs t...</td>\n",
       "      <td>0</td>\n",
       "      <td>0</td>\n",
       "      <td>0</td>\n",
       "      <td>5</td>\n",
       "      <td>4Zpn3ObC2zexkIhor4LJIQ</td>\n",
       "      <td>0</td>\n",
       "      <td>0</td>\n",
       "      <td>0</td>\n",
       "      <td>4.67</td>\n",
       "      <td>3.5</td>\n",
       "      <td>61</td>\n",
       "    </tr>\n",
       "    <tr>\n",
       "      <th>4</th>\n",
       "      <td>L_9BTb55X0GDtThi6GlZ6w</td>\n",
       "      <td>bv2nCi5Qv5vroFiqKGopiw</td>\n",
       "      <td>s2I_Ni76bjJNK9yG60iD-Q</td>\n",
       "      <td>4</td>\n",
       "      <td>2016-05-28</td>\n",
       "      <td>Had their chocolate almond croissant and it wa...</td>\n",
       "      <td>0</td>\n",
       "      <td>0</td>\n",
       "      <td>0</td>\n",
       "      <td>5</td>\n",
       "      <td>4Zpn3ObC2zexkIhor4LJIQ</td>\n",
       "      <td>0</td>\n",
       "      <td>0</td>\n",
       "      <td>0</td>\n",
       "      <td>4.67</td>\n",
       "      <td>4.5</td>\n",
       "      <td>397</td>\n",
       "    </tr>\n",
       "  </tbody>\n",
       "</table>\n",
       "</div>"
      ],
      "text/plain": [
       "                review_id                 user_id             business_id  \\\n",
       "0  vkVSCC7xljjrAI4UGfnKEQ  bv2nCi5Qv5vroFiqKGopiw  AEx2SYEUJmTxVVB18LlCwA   \n",
       "1  n6QzIUObkYshz4dz2QRJTw  bv2nCi5Qv5vroFiqKGopiw  VR6GpWIda3SfvPC-lg9H3w   \n",
       "2  MV3CcKScW05u5LVfF6ok0g  bv2nCi5Qv5vroFiqKGopiw  CKC0-MOWMqoeWf6s-szl8g   \n",
       "3  IXvOzsEMYtiJI0CARmj77Q  bv2nCi5Qv5vroFiqKGopiw  ACFtxLv8pGrrxMm6EgjreA   \n",
       "4  L_9BTb55X0GDtThi6GlZ6w  bv2nCi5Qv5vroFiqKGopiw  s2I_Ni76bjJNK9yG60iD-Q   \n",
       "\n",
       "   stars        date                                               text  \\\n",
       "0      5  2016-05-28  Super simple place but amazing nonetheless. It...   \n",
       "1      5  2016-05-28  Small unassuming place that changes their menu...   \n",
       "2      5  2016-05-28  Lester's is located in a beautiful neighborhoo...   \n",
       "3      4  2016-05-28  Love coming here. Yes the place always needs t...   \n",
       "4      4  2016-05-28  Had their chocolate almond croissant and it wa...   \n",
       "\n",
       "   useful  funny  cool  user_review_count                 friends  \\\n",
       "0       0      0     0                  5  4Zpn3ObC2zexkIhor4LJIQ   \n",
       "1       0      0     0                  5  4Zpn3ObC2zexkIhor4LJIQ   \n",
       "2       0      0     0                  5  4Zpn3ObC2zexkIhor4LJIQ   \n",
       "3       0      0     0                  5  4Zpn3ObC2zexkIhor4LJIQ   \n",
       "4       0      0     0                  5  4Zpn3ObC2zexkIhor4LJIQ   \n",
       "\n",
       "   user_total_useful  total_funny  total_cool  user_average_stars  \\\n",
       "0                  0            0           0                4.67   \n",
       "1                  0            0           0                4.67   \n",
       "2                  0            0           0                4.67   \n",
       "3                  0            0           0                4.67   \n",
       "4                  0            0           0                4.67   \n",
       "\n",
       "   business_stars  business_review_count  \n",
       "0             4.0                     84  \n",
       "1             4.5                     50  \n",
       "2             4.0                     70  \n",
       "3             3.5                     61  \n",
       "4             4.5                    397  "
      ]
     },
     "execution_count": 5,
     "metadata": {},
     "output_type": "execute_result"
    }
   ],
   "source": [
    "df.head()"
   ]
  },
  {
   "cell_type": "code",
   "execution_count": 6,
   "metadata": {},
   "outputs": [],
   "source": [
    "# Add a column to present the age of the comments\n",
    "df['date'] = pd.to_datetime(df['date'])\n",
    "today = datetime.strptime('7/23/2018', \"%m/%d/%Y\")\n",
    "df['days'] = (today - df['date']).dt.days"
   ]
  },
  {
   "cell_type": "code",
   "execution_count": 7,
   "metadata": {},
   "outputs": [],
   "source": [
    "# Using langdetect to detect language of the comments and only includes English comments\n",
    "language=[] # list which will contain the language of the comments\n",
    "for i in df.text.values:\n",
    "    try:\n",
    "        lan =detect(i)\n",
    "        language.append(lan)\n",
    "        \n",
    "    except:\n",
    "        language.append('unknown')\n",
    "\n",
    "df['language']=language\n",
    "df = df.loc[df['language']=='en']"
   ]
  },
  {
   "cell_type": "code",
   "execution_count": 8,
   "metadata": {},
   "outputs": [],
   "source": [
    "# Add a column to present word count of the comments\n",
    "df['text_count'] = df['text'].str.split().str.len()"
   ]
  },
  {
   "cell_type": "code",
   "execution_count": 9,
   "metadata": {},
   "outputs": [],
   "source": [
    "# Add a column to present review sentiment\n",
    "pol=[] # list which will contain the polarity of the comments\n",
    "for i in df.text.values:\n",
    "    try:\n",
    "        analysis =TextBlob(i)\n",
    "        pol.append(analysis.sentiment.polarity)\n",
    "        \n",
    "    except:\n",
    "        pol.append(0)\n",
    "       \n",
    "df['pol']=pol\n",
    "\n",
    "df['pol'] = df['pol'].apply(lambda x: round(x,2))"
   ]
  },
  {
   "cell_type": "code",
   "execution_count": 10,
   "metadata": {},
   "outputs": [],
   "source": [
    "# Removing punctions\n",
    "def remove_punctuation(text):\n",
    "    '''a function for removing punctuation'''\n",
    "    import string\n",
    "    # replacing the punctuations with no space, \n",
    "    # which in effect deletes the punctuation marks \n",
    "    translator = str.maketrans('', '', string.punctuation)\n",
    "    # return the text stripped of punctuation marks\n",
    "    return text.translate(translator)\n",
    "\n",
    "df['text'] = df['text'].apply(remove_punctuation)"
   ]
  },
  {
   "cell_type": "code",
   "execution_count": 11,
   "metadata": {},
   "outputs": [],
   "source": [
    "# Change every word into lowercase\n",
    "df['text'] = df['text'].apply(lambda x: x.lower())"
   ]
  },
  {
   "cell_type": "code",
   "execution_count": 12,
   "metadata": {},
   "outputs": [],
   "source": [
    "# Removing stopwords\n",
    "sw = stopwords.words('english')\n",
    "\n",
    "def stopwords(text):\n",
    "    '''a function for removing the stopword'''\n",
    "    # removing the stop words and lowercasing the selected words\n",
    "    text = [word for word in text.split() if word not in sw]\n",
    "    # joining the list of words with space separator\n",
    "    return \" \".join(text)\n",
    "\n",
    "df['text'] = df['text'].apply(stopwords)"
   ]
  },
  {
   "cell_type": "code",
   "execution_count": 13,
   "metadata": {},
   "outputs": [],
   "source": [
    "friends = []\n",
    "for f in df['friends']:\n",
    "    if f =='None':\n",
    "        c = 0\n",
    "        friends.append(c)\n",
    "    if f !='None':\n",
    "        f = str(f)\n",
    "        c = f.count(',') + 1\n",
    "        friends.append(c)\n",
    "df['friends'] = friends"
   ]
  },
  {
   "cell_type": "code",
   "execution_count": 14,
   "metadata": {},
   "outputs": [],
   "source": [
    "# Stemming operations\n",
    "stemmer = SnowballStemmer(\"english\")\n",
    "\n",
    "def stemming(text):    \n",
    "    '''a function which stems each word in the given text'''\n",
    "    text = [stemmer.stem(word) for word in text.split()]\n",
    "    return \" \".join(text) \n",
    "\n",
    "df['text'] = df['text'].apply(stemming)"
   ]
  },
  {
   "cell_type": "code",
   "execution_count": 15,
   "metadata": {},
   "outputs": [],
   "source": [
    "# df['text'] = df['text'].apply(lambda x: str(TextBlob(x).correct()))"
   ]
  },
  {
   "cell_type": "code",
   "execution_count": 16,
   "metadata": {},
   "outputs": [],
   "source": [
    "# df.drop(['funny', 'cool', 'language'], axis=1, inplace=True)"
   ]
  },
  {
   "cell_type": "code",
   "execution_count": 17,
   "metadata": {},
   "outputs": [
    {
     "data": {
      "text/plain": [
       "review_id                False\n",
       "user_id                  False\n",
       "business_id              False\n",
       "stars                    False\n",
       "date                     False\n",
       "text                     False\n",
       "useful                   False\n",
       "funny                    False\n",
       "cool                     False\n",
       "user_review_count        False\n",
       "friends                  False\n",
       "user_total_useful        False\n",
       "total_funny              False\n",
       "total_cool               False\n",
       "user_average_stars       False\n",
       "business_stars           False\n",
       "business_review_count    False\n",
       "days                     False\n",
       "language                 False\n",
       "text_count               False\n",
       "pol                      False\n",
       "dtype: bool"
      ]
     },
     "execution_count": 17,
     "metadata": {},
     "output_type": "execute_result"
    }
   ],
   "source": [
    "df.isnull().any()"
   ]
  },
  {
   "cell_type": "code",
   "execution_count": 18,
   "metadata": {},
   "outputs": [],
   "source": [
    "df['user_avg_useful'] = df['user_total_useful']/(df['user_review_count'] - 1)\n",
    "df['user_avg_useful'] = df['user_avg_useful'].apply(lambda x: round(x,2))\n",
    "df['user_avg_useful'] = df['user_avg_useful'].fillna(0)\n",
    "df['user_avg_useful'] = df['user_avg_useful'].replace([np.inf, -np.inf], 0)\n",
    "# df = df[np.isfinite(df['user_avg_useful'])]"
   ]
  },
  {
   "cell_type": "code",
   "execution_count": 19,
   "metadata": {},
   "outputs": [],
   "source": [
    "df['user_review_count'] = df['user_review_count'].fillna(0)\n",
    "df['user_total_useful'] = df['user_total_useful'].fillna(0)\n",
    "df['total_funny'] = df['total_funny'].fillna(0)\n",
    "df['total_cool'] = df['total_cool'].fillna(0)"
   ]
  },
  {
   "cell_type": "code",
   "execution_count": 21,
   "metadata": {},
   "outputs": [],
   "source": [
    "df = df[pd.notnull(df['text'])]\n",
    "df = df[pd.notnull(df['user_average_stars'])]\n",
    "df = df.replace('', np.nan)\n",
    "df = df.dropna(subset = ['text']) "
   ]
  },
  {
   "cell_type": "code",
   "execution_count": 22,
   "metadata": {},
   "outputs": [],
   "source": [
    "df.to_csv('../Cleaned_Data/cleaned_data_v1_full.csv', index=False)"
   ]
  },
  {
   "cell_type": "code",
   "execution_count": null,
   "metadata": {},
   "outputs": [],
   "source": [
    "df.head()"
   ]
  },
  {
   "cell_type": "code",
   "execution_count": null,
   "metadata": {},
   "outputs": [],
   "source": []
  }
 ],
 "metadata": {
  "kernelspec": {
   "display_name": "Python 3",
   "language": "python",
   "name": "python3"
  },
  "language_info": {
   "codemirror_mode": {
    "name": "ipython",
    "version": 3
   },
   "file_extension": ".py",
   "mimetype": "text/x-python",
   "name": "python",
   "nbconvert_exporter": "python",
   "pygments_lexer": "ipython3",
   "version": "3.6.0"
  }
 },
 "nbformat": 4,
 "nbformat_minor": 2
}
